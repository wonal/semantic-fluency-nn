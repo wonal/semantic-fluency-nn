{
 "cells": [
  {
   "cell_type": "code",
   "execution_count": null,
   "metadata": {},
   "outputs": [
    {
     "name": "stderr",
     "output_type": "stream",
     "text": [
      "C:\\Users\\carso\\Anaconda3\\lib\\site-packages\\gensim\\utils.py:1197: UserWarning: detected Windows; aliasing chunkize to chunkize_serial\n",
      "  warnings.warn(\"detected Windows; aliasing chunkize to chunkize_serial\")\n"
     ]
    }
   ],
   "source": [
    "from gensim.models import FastText, Word2Vec\n",
    "import nltk"
   ]
  },
  {
   "cell_type": "code",
   "execution_count": 2,
   "metadata": {},
   "outputs": [],
   "source": [
    "shakespeare = \"\"\n",
    "with open('shakespeare.txt', 'r', encoding=\"utf-8\") as myfile:\n",
    "    shakespeare=myfile.read().replace('\\n', '')\n",
    "shakespeare_sentences = nltk.sent_tokenize(shakespeare)\n",
    "# shakespeare_toks = nltk.word_tokenize(shakespeare_sentences)"
   ]
  },
  {
   "cell_type": "code",
   "execution_count": 3,
   "metadata": {},
   "outputs": [],
   "source": [
    "# sentence_2d = [[sent] for sent in shakespeare_sentences]\n",
    "tokenizer = nltk.RegexpTokenizer(r'\\w+')\n",
    "lemmer = nltk.WordNetLemmatizer()\n",
    "sentence_2d = [tokenizer.tokenize(sent) for sent in shakespeare_sentences]\n",
    "sentence_2d = [[lemmer.lemmatize(word.lower()) for word in sent] for sent in sentence_2d]"
   ]
  },
  {
   "cell_type": "code",
   "execution_count": 4,
   "metadata": {},
   "outputs": [],
   "source": [
    "model = Word2Vec(sentence_2d, size = 120, window = 5, min_count=2, workers=8, sg=1)"
   ]
  },
  {
   "cell_type": "code",
   "execution_count": 5,
   "metadata": {},
   "outputs": [
    {
     "name": "stdout",
     "output_type": "stream",
     "text": [
      "('juliet', 0.7762720584869385)\n",
      "('benvolio', 0.761172890663147)\n",
      "('diomed', 0.7590137720108032)\n",
      "('tybalt', 0.7464630603790283)\n",
      "('cressid', 0.7423908114433289)\n",
      "('mercutio', 0.7406779527664185)\n",
      "('shrew', 0.7400486469268799)\n",
      "('cesario', 0.7303415536880493)\n",
      "('beckons', 0.7206116914749146)\n",
      "('beatrice', 0.7080478668212891)\n",
      "\n",
      "1145088.125\n",
      "('benvolio', 0.7286677360534668)\n",
      "('juliet', 0.6976063251495361)\n",
      "('tybalt', 0.6682336330413818)\n",
      "('cressid', 0.6678661704063416)\n",
      "('cesario', 0.6652966737747192)\n",
      "('mercutio', 0.6564890742301941)\n",
      "('diomed', 0.6483094096183777)\n",
      "('cambio', 0.6443289518356323)\n",
      "('beckons', 0.632540225982666)\n",
      "('tarried', 0.6244534850120544)\n",
      "\n",
      "1165195.625\n",
      "('benvolio', 0.6766433119773865)\n",
      "('mercutio', 0.6486847400665283)\n",
      "('tybalt', 0.638440728187561)\n",
      "('cesario', 0.6261947154998779)\n",
      "('juliet', 0.6119140386581421)\n",
      "('parlour', 0.5855042934417725)\n",
      "('cambio', 0.5784279108047485)\n",
      "('befell', 0.5731999278068542)\n",
      "('criedst', 0.5682892799377441)\n",
      "('deniest', 0.5660737752914429)\n",
      "\n",
      "1153512.5\n",
      "('tybalt', 0.69901442527771)\n",
      "('benvolio', 0.6707767844200134)\n",
      "('juliet', 0.649326741695404)\n",
      "('mercutio', 0.6414414048194885)\n",
      "('cesario', 0.6089059114456177)\n",
      "('nurse', 0.580748438835144)\n",
      "('cassandra', 0.580040454864502)\n",
      "('taming', 0.575593113899231)\n",
      "('benedicite', 0.5740959644317627)\n",
      "('lawrence', 0.5674605965614319)\n",
      "\n",
      "1147570.625\n",
      "('juliet', 0.6183937788009644)\n",
      "('benvolio', 0.6040806770324707)\n",
      "('mercutio', 0.6016268730163574)\n",
      "('tybalt', 0.6008988618850708)\n",
      "('cesario', 0.5681018829345703)\n",
      "('stinted', 0.5644594430923462)\n",
      "('nurse', 0.5411165952682495)\n",
      "('lawrence', 0.534613311290741)\n",
      "('issueless', 0.5325326323509216)\n",
      "('benedicite', 0.5252386331558228)\n",
      "\n",
      "1151562.5\n",
      "('mercutio', 0.6099342107772827)\n",
      "('tybalt', 0.5922514200210571)\n",
      "('juliet', 0.5845363140106201)\n",
      "('benvolio', 0.5793753862380981)\n",
      "('stinted', 0.5607383847236633)\n",
      "('cesario', 0.5532774329185486)\n",
      "('lawrence', 0.5406869649887085)\n",
      "('benedicite', 0.5321635007858276)\n",
      "('_going', 0.5165723562240601)\n",
      "('nurse', 0.514820396900177)\n",
      "\n",
      "1139306.375\n",
      "('juliet', 0.6251691579818726)\n",
      "('mercutio', 0.6073259115219116)\n",
      "('benvolio', 0.5910161137580872)\n",
      "('nurse', 0.5778278112411499)\n",
      "('tybalt', 0.571365237236023)\n",
      "('benedicite', 0.5438681840896606)\n",
      "('cesario', 0.5328167676925659)\n",
      "('stinted', 0.5286416411399841)\n",
      "('for', 0.5207175016403198)\n",
      "('lawrence', 0.520366370677948)\n",
      "\n",
      "1129747.625\n",
      "('mercutio', 0.657309353351593)\n",
      "('benvolio', 0.6340301632881165)\n",
      "('tybalt', 0.6079573631286621)\n",
      "('juliet', 0.5992335081100464)\n",
      "('benedicite', 0.5585392713546753)\n",
      "('catcher', 0.5530283451080322)\n",
      "('man', 0.547267735004425)\n",
      "('taming', 0.5410382747650146)\n",
      "('stinted', 0.5312273502349854)\n",
      "('_one', 0.5287027955055237)\n",
      "\n",
      "1110097.125\n",
      "('mercutio', 0.6646997332572937)\n",
      "('juliet', 0.6381999254226685)\n",
      "('benvolio', 0.6225996613502502)\n",
      "('tybalt', 0.5865122079849243)\n",
      "('benedicite', 0.5858767628669739)\n",
      "('stinted', 0.5742225646972656)\n",
      "('catcher', 0.5690646171569824)\n",
      "('taming', 0.5591303110122681)\n",
      "('man', 0.5563801527023315)\n",
      "('cesario', 0.549752414226532)\n",
      "\n",
      "1130807.0\n",
      "('juliet', 0.6506419777870178)\n",
      "('mercutio', 0.6333279013633728)\n",
      "('tybalt', 0.6129217147827148)\n",
      "('benvolio', 0.5981249809265137)\n",
      "('catcher', 0.5653687119483948)\n",
      "('benedicite', 0.5581871271133423)\n",
      "('man', 0.5504019260406494)\n",
      "('_going', 0.5393341779708862)\n",
      "('cesario', 0.536985456943512)\n",
      "('consort', 0.5283528566360474)\n",
      "\n",
      "1131899.5\n",
      "('juliet', 0.6836891770362854)\n",
      "('benvolio', 0.6345040798187256)\n",
      "('mercutio', 0.6150262355804443)\n",
      "('benedicite', 0.612290620803833)\n",
      "('tybalt', 0.6035398244857788)\n",
      "('man', 0.5740498900413513)\n",
      "('_one', 0.560991108417511)\n",
      "('_going', 0.5577203035354614)\n",
      "('catcher', 0.5551599860191345)\n",
      "('_knocking', 0.5500003099441528)\n",
      "\n",
      "1131457.125\n",
      "('juliet', 0.6454492807388306)\n",
      "('mercutio', 0.6441816091537476)\n",
      "('benvolio', 0.6314928531646729)\n",
      "('tybalt', 0.5700798034667969)\n",
      "('benedicite', 0.544608473777771)\n",
      "('_behind', 0.5242819786071777)\n",
      "('catcher', 0.5195743441581726)\n",
      "('_one', 0.5184670686721802)\n",
      "('cesario', 0.5171736478805542)\n",
      "('_seeing', 0.5106230974197388)\n",
      "\n",
      "1125071.125\n",
      "('juliet', 0.6519235372543335)\n",
      "('benvolio', 0.5898979902267456)\n",
      "('mercutio', 0.5696262121200562)\n",
      "('tybalt', 0.5590736865997314)\n",
      "('benedicite', 0.5569975972175598)\n",
      "('_one', 0.5204639434814453)\n",
      "('allone', 0.5039850473403931)\n",
      "('_going', 0.5027629733085632)\n",
      "('swits', 0.49920111894607544)\n",
      "('cesario', 0.49725276231765747)\n",
      "\n",
      "1130926.5\n",
      "('juliet', 0.6896685361862183)\n",
      "('tybalt', 0.6286331415176392)\n",
      "('mercutio', 0.6132920980453491)\n",
      "('benvolio', 0.5982837677001953)\n",
      "('benedicite', 0.5833248496055603)\n",
      "('_going', 0.5368043184280396)\n",
      "('_behind', 0.536680281162262)\n",
      "('with_', 0.5292141437530518)\n",
      "('_one', 0.5289938449859619)\n",
      "('swits', 0.5196292400360107)\n",
      "\n",
      "1127370.25\n",
      "('juliet', 0.6594997644424438)\n",
      "('tybalt', 0.6382817029953003)\n",
      "('mercutio', 0.6260885000228882)\n",
      "('benvolio', 0.5674551725387573)\n",
      "('_behind', 0.5434961915016174)\n",
      "('benedicite', 0.5428374409675598)\n",
      "('swits', 0.5396184921264648)\n",
      "('stinted', 0.5264812111854553)\n",
      "('_going', 0.5069942474365234)\n",
      "('ay', 0.49977612495422363)\n",
      "\n",
      "1122176.625\n"
     ]
    }
   ],
   "source": [
    "for _ in range(15):\n",
    "    alpha = 0.1\n",
    "    model.train(sentence_2d, total_examples=len(sentence_2d),\n",
    "                epochs=1, start_alpha=alpha, compute_loss=True)\n",
    "    ls = model.wv.most_similar(\"romeo\")\n",
    "    for ent in ls:\n",
    "        print(ent)\n",
    "    print()\n",
    "    # do semantic graph stuff\n",
    "    print(model.get_latest_training_loss())\n",
    "    alpha -= 0.001\n"
   ]
  },
  {
   "cell_type": "code",
   "execution_count": 6,
   "metadata": {},
   "outputs": [],
   "source": [
    "import scipy.spatial as sp"
   ]
  },
  {
   "cell_type": "code",
   "execution_count": 7,
   "metadata": {},
   "outputs": [
    {
     "data": {
      "text/plain": [
       "0.3405001759529114"
      ]
     },
     "execution_count": 7,
     "metadata": {},
     "output_type": "execute_result"
    }
   ],
   "source": [
    "romeo = model.wv.get_vector(\"romeo\")\n",
    "juliet = model.wv.get_vector(\"juliet\")\n",
    "sim = sp.distance.cosine(romeo, juliet)\n",
    "sim"
   ]
  },
  {
   "cell_type": "code",
   "execution_count": null,
   "metadata": {},
   "outputs": [],
   "source": []
  },
  {
   "cell_type": "code",
   "execution_count": null,
   "metadata": {},
   "outputs": [],
   "source": []
  },
  {
   "cell_type": "code",
   "execution_count": null,
   "metadata": {},
   "outputs": [],
   "source": []
  },
  {
   "cell_type": "code",
   "execution_count": null,
   "metadata": {},
   "outputs": [],
   "source": []
  },
  {
   "cell_type": "code",
   "execution_count": null,
   "metadata": {},
   "outputs": [],
   "source": []
  },
  {
   "cell_type": "code",
   "execution_count": null,
   "metadata": {},
   "outputs": [],
   "source": []
  },
  {
   "cell_type": "code",
   "execution_count": null,
   "metadata": {},
   "outputs": [],
   "source": []
  },
  {
   "cell_type": "code",
   "execution_count": null,
   "metadata": {},
   "outputs": [],
   "source": []
  }
 ],
 "metadata": {
  "kernelspec": {
   "display_name": "Python 3",
   "language": "python",
   "name": "python3"
  },
  "language_info": {
   "codemirror_mode": {
    "name": "ipython",
    "version": 3
   },
   "file_extension": ".py",
   "mimetype": "text/x-python",
   "name": "python",
   "nbconvert_exporter": "python",
   "pygments_lexer": "ipython3",
   "version": "3.7.0"
  }
 },
 "nbformat": 4,
 "nbformat_minor": 2
}
