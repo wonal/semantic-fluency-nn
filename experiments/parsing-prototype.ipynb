{
 "cells": [
  {
   "cell_type": "markdown",
   "metadata": {},
   "source": [
    "# text_wrangler API\n",
    "\n",
    "1. [Constructor](#constructor)\n",
    "2. [Sentence Matrix](#sentence_matrix)\n",
    "3. [Vocabulary](#vocabulary)\n",
    "4. [Stopwords](#stopwords)\n",
    "5. [Filtered Vocabulary](#filtered_vocabulary)\n",
    "6. [Nouns](#nouns)\n",
    "7. [Adjectives](#adjectives)\n",
    "8. [Verbs](#verbs)\n",
    "9. [Demo with Word2Vec](#word2vec_demo)"
   ]
  },
  {
   "cell_type": "code",
   "execution_count": 1,
   "metadata": {},
   "outputs": [],
   "source": [
    "import os\n",
    "os.chdir(\"..\")"
   ]
  },
  {
   "cell_type": "code",
   "execution_count": 2,
   "metadata": {},
   "outputs": [],
   "source": [
    "from src.graph.Graph import UndirectedGraph\n",
    "from src.text.text_wrangler import Corpus"
   ]
  },
  {
   "cell_type": "markdown",
   "metadata": {},
   "source": [
    "## 1 Constructor <a name=\"constructor\"></a>\n",
    "Loads a corpus into a text_wrangler.Corpus object"
   ]
  },
  {
   "cell_type": "code",
   "execution_count": 3,
   "metadata": {},
   "outputs": [],
   "source": [
    "shakespeare = Corpus(\"data/input/shakespeare.txt\")"
   ]
  },
  {
   "cell_type": "markdown",
   "metadata": {},
   "source": [
    "## 2 Sentence Matrix <a name=\"sentence_matrix\"></a>\n",
    "A matrix where the rows are tokenized sentences. This is the format that the Word2Vec model expects to receive the corpus in."
   ]
  },
  {
   "cell_type": "code",
   "execution_count": 4,
   "metadata": {},
   "outputs": [
    {
     "name": "stdout",
     "output_type": "stream",
     "text": [
      "99624\n",
      "['ah', 'wherefore', 'with', 'infection', 'should', 'he', 'live', 'and', 'with', 'his', 'presence', 'grace', 'impiety', 'that', 'sin', 'by', 'him', 'advantage', 'should', 'achieve', 'and', 'lace', 'it', 'self', 'with', 'his', 'society']\n"
     ]
    }
   ],
   "source": [
    "print(len(shakespeare.sentence_matrix))\n",
    "print(shakespeare.sentence_matrix[200])"
   ]
  },
  {
   "cell_type": "markdown",
   "metadata": {},
   "source": [
    "## 3 Vocabulary <a name=\"vocabulary\"></a>\n",
    "A set containing the unique vocabulary in the corpus."
   ]
  },
  {
   "cell_type": "code",
   "execution_count": 5,
   "metadata": {},
   "outputs": [
    {
     "data": {
      "text/plain": [
       "['thawing',\n",
       " 'conceal',\n",
       " 'insisture',\n",
       " 'money',\n",
       " 'plod',\n",
       " 'endless',\n",
       " 'seymour',\n",
       " 'tainture',\n",
       " 'agrees',\n",
       " 'meanes']"
      ]
     },
     "execution_count": 5,
     "metadata": {},
     "output_type": "execute_result"
    }
   ],
   "source": [
    "print(list(shakespeare.vocab)[:10])"
   ]
  },
  {
   "cell_type": "code",
   "execution_count": 12,
   "metadata": {},
   "outputs": [
    {
     "name": "stdout",
     "output_type": "stream",
     "text": [
      "22444\n"
     ]
    }
   ],
   "source": [
    "print(len(shakespeare.vocab))"
   ]
  },
  {
   "cell_type": "markdown",
   "metadata": {},
   "source": [
    "## 4 Stopwords <a name=\"stopwords\"></a>\n",
    "A set containing the words that may be unimportant."
   ]
  },
  {
   "cell_type": "code",
   "execution_count": 13,
   "metadata": {},
   "outputs": [
    {
     "data": {
      "text/plain": [
       "[\"hasn't\",\n",
       " \"don't\",\n",
       " 'her',\n",
       " 'both',\n",
       " 'no',\n",
       " 'there',\n",
       " 'yourselves',\n",
       " 'yourself',\n",
       " 'when',\n",
       " 'you']"
      ]
     },
     "execution_count": 13,
     "metadata": {},
     "output_type": "execute_result"
    }
   ],
   "source": [
    "list(shakespeare.stopwords)[:10]"
   ]
  },
  {
   "cell_type": "markdown",
   "metadata": {},
   "source": [
    "## 5 Filtered Vocabulary <a name=\"filtered_vocabulary\"></a>\n",
    "A set containing the corpus' vocab, with stopwords filtered out."
   ]
  },
  {
   "cell_type": "code",
   "execution_count": 8,
   "metadata": {},
   "outputs": [
    {
     "name": "stdout",
     "output_type": "stream",
     "text": [
      "['thawing', 'insisture', 'conceal', 'money', 'plod', 'endless', 'seymour', 'tainture', 'agrees', 'meanes']\n",
      "22316\n"
     ]
    }
   ],
   "source": [
    "print(list(shakespeare.filtered_vocab)[:10])\n",
    "print(len(shakespeare.filtered_vocab))"
   ]
  },
  {
   "cell_type": "markdown",
   "metadata": {},
   "source": [
    "## 6 Nouns <a name=\"nouns\"></a>\n",
    "A set containing the nouns in the vocabulary"
   ]
  },
  {
   "cell_type": "code",
   "execution_count": 14,
   "metadata": {},
   "outputs": [
    {
     "name": "stdout",
     "output_type": "stream",
     "text": [
      "['wrist', 'chief', 'welcom', 'horologe', 'pantaloon', 'insisture', 'charm', 'money', 'toucheth', 'plod']\n"
     ]
    }
   ],
   "source": [
    "print(list(shakespeare.nouns)[:10])"
   ]
  },
  {
   "cell_type": "markdown",
   "metadata": {},
   "source": [
    "## 7 Adjectives <a name=\"adjectives\"></a>\n",
    "A set containing the adjectives in the vocabulary"
   ]
  },
  {
   "cell_type": "code",
   "execution_count": 15,
   "metadata": {},
   "outputs": [
    {
     "name": "stdout",
     "output_type": "stream",
     "text": [
      "['bread', 'recant', 'conceal', 'defendant', 'conceive', 'seymour', 'bona', 'encourag', 'smallest', 'dragonish']\n"
     ]
    }
   ],
   "source": [
    "print(list(shakespeare.adjectives)[:10])"
   ]
  },
  {
   "cell_type": "markdown",
   "metadata": {},
   "source": [
    "## 8 Verbs <a name=\"verbs\"></a>\n",
    "A set containing the verbs in the vocabulary"
   ]
  },
  {
   "cell_type": "code",
   "execution_count": 16,
   "metadata": {},
   "outputs": [
    {
     "name": "stdout",
     "output_type": "stream",
     "text": [
      "['oaken', 'purposed', 'thawing', 'youngling', 'clay', 'qualify', 'preserved', 'moonlight', 'thrilling', 'bring']\n"
     ]
    }
   ],
   "source": [
    "print(list(shakespeare.verbs)[:10])"
   ]
  },
  {
   "cell_type": "markdown",
   "metadata": {},
   "source": [
    "## 9 Word2Vec Demo with text_wrangler.Corpus <a name=\"word2vec_demo\"></a>"
   ]
  },
  {
   "cell_type": "code",
   "execution_count": 10,
   "metadata": {},
   "outputs": [
    {
     "name": "stderr",
     "output_type": "stream",
     "text": [
      "C:\\Users\\carso\\Anaconda3\\lib\\site-packages\\gensim\\utils.py:1197: UserWarning: detected Windows; aliasing chunkize to chunkize_serial\n",
      "  warnings.warn(\"detected Windows; aliasing chunkize to chunkize_serial\")\n"
     ]
    },
    {
     "name": "stdout",
     "output_type": "stream",
     "text": [
      "Round 0 ==================\n",
      "('tybalt', 0.8562448024749756)\n",
      "('juliet', 0.7816978096961975)\n",
      "('arthur', 0.7632609605789185)\n",
      "('cato', 0.7622706890106201)\n",
      "('mercutio', 0.7500942945480347)\n",
      "('harry', 0.7439703345298767)\n",
      "('hector', 0.7414019107818604)\n",
      "('cell', 0.7264564037322998)\n",
      "('montague', 0.7242982387542725)\n",
      "('thisbe', 0.7203301787376404)\n",
      "\n",
      "\n",
      "\n",
      "Round 1 ==================\n",
      "('tybalt', 0.8603017330169678)\n",
      "('juliet', 0.7692221403121948)\n",
      "('cato', 0.7610849738121033)\n",
      "('mercutio', 0.7580196857452393)\n",
      "('arthur', 0.752902626991272)\n",
      "('rutland', 0.7148600816726685)\n",
      "('hector', 0.7136489152908325)\n",
      "('cell', 0.7121493816375732)\n",
      "('aeneas', 0.7036502361297607)\n",
      "('imogen', 0.7032143473625183)\n",
      "\n",
      "\n",
      "\n",
      "Round 2 ==================\n",
      "('tybalt', 0.8507821559906006)\n",
      "('mercutio', 0.7540134191513062)\n",
      "('cato', 0.7527130842208862)\n",
      "('juliet', 0.7486774921417236)\n",
      "('arthur', 0.7279664874076843)\n",
      "('cell', 0.6948233842849731)\n",
      "('aeneas', 0.6902241706848145)\n",
      "('outright', 0.6883275508880615)\n",
      "('edgar', 0.6873379945755005)\n",
      "('bassianus', 0.6869306564331055)\n",
      "\n",
      "\n",
      "\n",
      "Round 3 ==================\n",
      "('tybalt', 0.8400412201881409)\n",
      "('mercutio', 0.7457845211029053)\n",
      "('juliet', 0.744015634059906)\n",
      "('cato', 0.7295304536819458)\n",
      "('arthur', 0.7002748250961304)\n",
      "('outright', 0.6728900671005249)\n",
      "('bassianus', 0.6721121072769165)\n",
      "('murdered', 0.6690165400505066)\n",
      "('cell', 0.6689315438270569)\n",
      "('benvolio', 0.6639779806137085)\n",
      "\n",
      "\n",
      "\n",
      "Round 4 ==================\n",
      "('tybalt', 0.8241758942604065)\n",
      "('mercutio', 0.7404645085334778)\n",
      "('juliet', 0.7260001301765442)\n",
      "('cato', 0.7151559591293335)\n",
      "('arthur', 0.6827750205993652)\n",
      "('outright', 0.6723358631134033)\n",
      "('benvolio', 0.6719561815261841)\n",
      "('mountaineer', 0.6642775535583496)\n",
      "('murdered', 0.6616262197494507)\n",
      "('bassianus', 0.6604951620101929)\n",
      "\n",
      "\n",
      "\n"
     ]
    }
   ],
   "source": [
    "from gensim.models import Word2Vec\n",
    "\n",
    "model = Word2Vec(shakespeare.sentence_matrix, size = 120,\n",
    "                 window = 5, min_count=5, workers=8, sg=1)\n",
    "for i in range(5):\n",
    "    model.train(shakespeare.sentence_matrix, total_examples=len(shakespeare.sentence_matrix),\n",
    "                epochs=1, compute_loss=True)\n",
    "    loss = model.get_latest_training_loss()\n",
    "    # Quick glimpse at what Word2Vec finds to be the most similar\n",
    "    sim = model.wv.most_similar(\"romeo\")\n",
    "    print(\"Round {} ==================\".format(i))\n",
    "    for s in sim:\n",
    "        print(s)\n",
    "    print(\"\\n\\n\")"
   ]
  }
 ],
 "metadata": {
  "kernelspec": {
   "display_name": "Python 3",
   "language": "python",
   "name": "python3"
  },
  "language_info": {
   "codemirror_mode": {
    "name": "ipython",
    "version": 3
   },
   "file_extension": ".py",
   "mimetype": "text/x-python",
   "name": "python",
   "nbconvert_exporter": "python",
   "pygments_lexer": "ipython3",
   "version": "3.7.0"
  }
 },
 "nbformat": 4,
 "nbformat_minor": 2
}
