{
 "cells": [
  {
   "cell_type": "markdown",
   "metadata": {},
   "source": [
    "### Import required classes"
   ]
  },
  {
   "cell_type": "code",
   "execution_count": 2,
   "metadata": {},
   "outputs": [],
   "source": [
    "import numpy as np\n",
    "import os\n",
    "os.chdir('..')\n",
    "from src.graph.semantic_network import SemanticNetwork\n",
    "from src.text.text_wrangler import Corpus\n",
    "from gensim.models import Word2Vec\n",
    "from src.algorithms.hill_climbing import HillClimber\n",
    "from src.algorithms import irt"
   ]
  },
  {
   "cell_type": "markdown",
   "metadata": {},
   "source": [
    "### Create Network"
   ]
  },
  {
   "cell_type": "code",
   "execution_count": 3,
   "metadata": {},
   "outputs": [],
   "source": [
    "shakespeare = Corpus(\"data/input/shakespeare.txt\")\n",
    "model = Word2Vec(shakespeare.sentence_matrix, size = 120,\n",
    "                 window = 5, min_count=5, workers=8, sg=1)\n",
    "network = SemanticNetwork(embeddings=model.wv.vectors, aligned_keys=model.wv.index2word)"
   ]
  },
  {
   "cell_type": "markdown",
   "metadata": {},
   "source": [
    "### Training for 10 iterations, can increase if desired"
   ]
  },
  {
   "cell_type": "code",
   "execution_count": 4,
   "metadata": {},
   "outputs": [
    {
     "name": "stdout",
     "output_type": "stream",
     "text": [
      "Round 0 ==================\n",
      "Updated 4165828 edges\n",
      "Round 1 ==================\n",
      "Updated 2403888 edges\n",
      "Round 2 ==================\n",
      "Updated 1196578 edges\n",
      "Round 3 ==================\n",
      "Updated 525020 edges\n",
      "Round 4 ==================\n",
      "Updated 226694 edges\n",
      "Round 5 ==================\n",
      "Updated 105464 edges\n",
      "Round 6 ==================\n",
      "Updated 56390 edges\n",
      "Round 7 ==================\n",
      "Updated 35178 edges\n",
      "Round 8 ==================\n",
      "Updated 24512 edges\n",
      "Round 9 ==================\n",
      "Updated 18918 edges\n"
     ]
    }
   ],
   "source": [
    "for i in range(10):\n",
    "    model.train(shakespeare.sentence_matrix, total_examples=len(shakespeare.sentence_matrix),\n",
    "                epochs=1, compute_loss=True)\n",
    "    print(\"Round {} ==================\".format(i))\n",
    "    network.update(em_proportion=1, g_proportion=1, include_set=shakespeare.nouns, stop_set=shakespeare.stopwords, thresh=0.8, verbose=True)"
   ]
  },
  {
   "cell_type": "markdown",
   "metadata": {},
   "source": [
    "### Begin Random Start Hill Climbing\n",
    "\n",
    "* If no \"start\" specified, will randomize. \n",
    "* Allows consecutive \"repeats\" up to 3 times, then jumps to another random node.\n",
    "    * Use \"repeat\" = # to specify in constructor\n",
    "* Max out after 20 iterations. Use num_iter = # to specify in constructor."
   ]
  },
  {
   "cell_type": "code",
   "execution_count": 17,
   "metadata": {},
   "outputs": [
    {
     "data": {
      "text/plain": [
       "['deceas',\n",
       " 'fornication',\n",
       " 'fornication',\n",
       " 'compliment',\n",
       " 'compliment',\n",
       " 'wantonness',\n",
       " 'wantonness',\n",
       " 'repetition',\n",
       " 'repetition',\n",
       " 'wantonness',\n",
       " 'wantonness',\n",
       " 'repetition',\n",
       " 'repetition',\n",
       " 'wantonness',\n",
       " 'indignation',\n",
       " 'rent',\n",
       " 'rent',\n",
       " 'carcass',\n",
       " 'carcass',\n",
       " 'goat',\n",
       " 'goat',\n",
       " 'carcass',\n",
       " 'carcass',\n",
       " 'goat',\n",
       " 'goat',\n",
       " 'carcass',\n",
       " 'chariot',\n",
       " 'smock',\n",
       " 'smock',\n",
       " 'sweetness',\n",
       " 'sweetness',\n",
       " 'station',\n",
       " 'station',\n",
       " 'sweetness',\n",
       " 'sweetness',\n",
       " 'station',\n",
       " 'station',\n",
       " 'sweetness',\n",
       " 'brine',\n",
       " 'scythe',\n",
       " 'scythe']"
      ]
     },
     "execution_count": 17,
     "metadata": {},
     "output_type": "execute_result"
    }
   ],
   "source": [
    "walk = HillClimber(network.graph)\n",
    "walk.run()"
   ]
  },
  {
   "cell_type": "markdown",
   "metadata": {},
   "source": [
    "### Calculate IRT"
   ]
  },
  {
   "cell_type": "code",
   "execution_count": 18,
   "metadata": {},
   "outputs": [
    {
     "data": {
      "text/plain": [
       "[(None, 'deceas', 0),\n",
       " ('deceas', 'fornication', 0),\n",
       " ('fornication', 'compliment', 1),\n",
       " ('compliment', 'wantonness', 1),\n",
       " ('wantonness', 'repetition', 1),\n",
       " ('repetition', 'indignation', 6),\n",
       " ('indignation', 'rent', 0),\n",
       " ('rent', 'carcass', 1),\n",
       " ('carcass', 'goat', 1),\n",
       " ('goat', 'chariot', 6),\n",
       " ('chariot', 'smock', 0),\n",
       " ('smock', 'sweetness', 1),\n",
       " ('sweetness', 'station', 1),\n",
       " ('station', 'brine', 6),\n",
       " ('brine', 'scythe', 0)]"
      ]
     },
     "execution_count": 18,
     "metadata": {},
     "output_type": "execute_result"
    }
   ],
   "source": [
    "irt.IRT.calculate(walk.list)"
   ]
  },
  {
   "cell_type": "markdown",
   "metadata": {},
   "source": [
    "### Hill Climbing with defined start"
   ]
  },
  {
   "cell_type": "code",
   "execution_count": 6,
   "metadata": {},
   "outputs": [
    {
     "data": {
      "text/plain": [
       "['trifle',\n",
       " 'lesson',\n",
       " 'lesson',\n",
       " 'wantonness',\n",
       " 'wantonness',\n",
       " 'repetition',\n",
       " 'repetition',\n",
       " 'wantonness',\n",
       " 'wantonness',\n",
       " 'repetition',\n",
       " 'repetition',\n",
       " 'wantonness',\n",
       " 'stone',\n",
       " 'sand',\n",
       " 'sand',\n",
       " 'trod',\n",
       " 'trod',\n",
       " 'hoop',\n",
       " 'hoop',\n",
       " 'goat',\n",
       " 'goat',\n",
       " 'carcass',\n",
       " 'carcass',\n",
       " 'goat',\n",
       " 'goat',\n",
       " 'carcass',\n",
       " 'carcass',\n",
       " 'goat',\n",
       " 'conclusion',\n",
       " 'path',\n",
       " 'path',\n",
       " 'transform',\n",
       " 'transform',\n",
       " 'path',\n",
       " 'path',\n",
       " 'transform',\n",
       " 'transform',\n",
       " 'path',\n",
       " 'oil',\n",
       " 'corruption',\n",
       " 'corruption']"
      ]
     },
     "execution_count": 6,
     "metadata": {},
     "output_type": "execute_result"
    }
   ],
   "source": [
    "walk = HillClimber(network.graph, start = \"trifle\")\n",
    "walk.run()"
   ]
  },
  {
   "cell_type": "markdown",
   "metadata": {},
   "source": [
    "### Calculate IRT"
   ]
  },
  {
   "cell_type": "code",
   "execution_count": 14,
   "metadata": {},
   "outputs": [
    {
     "data": {
      "text/plain": [
       "[(None, 'trifle', 0),\n",
       " ('trifle', 'lesson', 0),\n",
       " ('lesson', 'wantonness', 1),\n",
       " ('wantonness', 'repetition', 1),\n",
       " ('repetition', 'stone', 6),\n",
       " ('stone', 'sand', 0),\n",
       " ('sand', 'trod', 1),\n",
       " ('trod', 'hoop', 1),\n",
       " ('hoop', 'goat', 1),\n",
       " ('goat', 'carcass', 1),\n",
       " ('carcass', 'conclusion', 6),\n",
       " ('conclusion', 'path', 0),\n",
       " ('path', 'transform', 1),\n",
       " ('transform', 'oil', 6),\n",
       " ('oil', 'corruption', 0)]"
      ]
     },
     "execution_count": 14,
     "metadata": {},
     "output_type": "execute_result"
    }
   ],
   "source": [
    "irt.IRT.calculate(walk.list)"
   ]
  },
  {
   "cell_type": "code",
   "execution_count": null,
   "metadata": {},
   "outputs": [],
   "source": []
  }
 ],
 "metadata": {
  "kernelspec": {
   "display_name": "Python 3",
   "language": "python",
   "name": "python3"
  }
 },
 "nbformat": 4,
 "nbformat_minor": 2
}
